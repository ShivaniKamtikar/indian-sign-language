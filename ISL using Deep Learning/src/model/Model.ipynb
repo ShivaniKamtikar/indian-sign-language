{
 "cells": [
  {
   "cell_type": "code",
   "execution_count": 21,
   "metadata": {
    "executionInfo": {
     "elapsed": 445,
     "status": "ok",
     "timestamp": 1601176970334,
     "user": {
      "displayName": "Shivani Kamtikar",
      "photoUrl": "https://lh3.googleusercontent.com/a-/AOh14GgCVgFNvKERoqHXNf-N-ZOgNZfo8VUE_vBc5PsVDQ=s64",
      "userId": "17934731661532229860"
     },
     "user_tz": 300
    },
    "id": "6UMIyz4AFSiT"
   },
   "outputs": [],
   "source": [
    "#importing all the libraries\n",
    "import numpy as np # linear algebra\n",
    "import pandas as pd # data processing, CSV file I/O (e.g. pd.read_csv)\n",
    "from sklearn.preprocessing import OneHotEncoder\n",
    "import matplotlib.pyplot as plt\n",
    "import keras\n",
    "from keras import layers, models\n",
    "from keras.layers import *\n",
    "from keras.models import Sequential\n",
    "from keras import regularizers\n",
    "from keras.layers import Dense\n",
    "from keras import regularizers\n",
    "from keras.preprocessing import image\n",
    "from keras.optimizers import Adam, SGD\n",
    "from sklearn.metrics import f1_score\n",
    "import cv2\n",
    "from google.colab.patches import cv2_imshow\n",
    "from sklearn.metrics import multilabel_confusion_matrix\n",
    "from sklearn.metrics import roc_curve, auc\n",
    "from sklearn.metrics import roc_auc_score\n",
    "from sklearn import preprocessing\n",
    "from sklearn.metrics import classification_report\n",
    "import scipy\n",
    "from PIL import Image\n",
    "import io\n",
    "import cv2\n",
    "import time"
   ]
  },
  {
   "cell_type": "code",
   "execution_count": 22,
   "metadata": {
    "colab": {
     "base_uri": "https://localhost:8080/",
     "height": 34
    },
    "executionInfo": {
     "elapsed": 662,
     "status": "ok",
     "timestamp": 1601176970561,
     "user": {
      "displayName": "Shivani Kamtikar",
      "photoUrl": "https://lh3.googleusercontent.com/a-/AOh14GgCVgFNvKERoqHXNf-N-ZOgNZfo8VUE_vBc5PsVDQ=s64",
      "userId": "17934731661532229860"
     },
     "user_tz": 300
    },
    "id": "YIuec-q_1e2F",
    "outputId": "3a9591e8-f9d7-47b4-c569-6e7d299eb688"
   },
   "outputs": [
    {
     "name": "stdout",
     "output_type": "stream",
     "text": [
      "Drive already mounted at /content/drive; to attempt to forcibly remount, call drive.mount(\"/content/drive\", force_remount=True).\n"
     ]
    }
   ],
   "source": [
    "from google.colab import drive\n",
    "drive.mount('/content/drive')"
   ]
  },
  {
   "cell_type": "code",
   "execution_count": 23,
   "metadata": {
    "executionInfo": {
     "elapsed": 657,
     "status": "ok",
     "timestamp": 1601176970562,
     "user": {
      "displayName": "Shivani Kamtikar",
      "photoUrl": "https://lh3.googleusercontent.com/a-/AOh14GgCVgFNvKERoqHXNf-N-ZOgNZfo8VUE_vBc5PsVDQ=s64",
      "userId": "17934731661532229860"
     },
     "user_tz": 300
    },
    "id": "Nyu9Ky9z_zUM"
   },
   "outputs": [],
   "source": [
    "#Method to convert numerical prediction to alphabets.\n",
    "def numb_to_alpha(prediction):\n",
    "\n",
    "  if prediction==0:\n",
    "    prediction = 'A'\n",
    "    \n",
    "  elif prediction==1:\n",
    "    prediction = 'B'\n",
    "    \n",
    "  elif prediction==2:\n",
    "    prediction = 'C'\n",
    "   \n",
    "  elif prediction==3:\n",
    "    prediction = 'D'\n",
    "    \n",
    "  elif prediction==4:\n",
    "    prediction = 'E'\n",
    "    \n",
    "  elif prediction==5:\n",
    "    prediction = 'F'\n",
    "    \n",
    "  elif prediction==6:\n",
    "    prediction = 'G'\n",
    "    \n",
    "  elif prediction==7:\n",
    "    prediction = 'H'\n",
    "    \n",
    "  elif prediction==8:\n",
    "    prediction = 'I'\n",
    "    \n",
    "  elif prediction==9:\n",
    "    prediction = 'J'\n",
    "    \n",
    "  elif prediction==10:\n",
    "    prediction = 'K'\n",
    "    \n",
    "  elif prediction==11:\n",
    "    prediction = 'L'\n",
    "    \n",
    "  elif prediction==12:\n",
    "    prediction = 'M'\n",
    "    \n",
    "  elif prediction==13:\n",
    "    prediction = 'N'\n",
    "    \n",
    "  elif prediction==14:\n",
    "    prediction = 'O'\n",
    "    \n",
    "  elif prediction==15:\n",
    "    prediction = 'P'\n",
    "    \n",
    "  elif prediction==16:\n",
    "    prediction = 'Q'\n",
    "    \n",
    "  elif prediction==17:\n",
    "    prediction = 'R'\n",
    "    \n",
    "  elif prediction==18:\n",
    "    prediction = 'S'\n",
    "    \n",
    "  elif prediction==19:\n",
    "    prediction = 'T'\n",
    "   \n",
    "  elif prediction==20:\n",
    "    prediction = 'U'\n",
    "    \n",
    "  elif prediction==21:\n",
    "    prediction = 'V'\n",
    "    \n",
    "  elif prediction==22:\n",
    "    prediction = 'W'\n",
    "    \n",
    "  elif prediction==23:\n",
    "    prediction = 'X'\n",
    "    \n",
    "  elif prediction==24:\n",
    "    prediction = 'Y'\n",
    "    \n",
    "  elif prediction==25:\n",
    "    prediction = 'Z'\n",
    "\n",
    "  return prediction\n",
    "    "
   ]
  },
  {
   "cell_type": "code",
   "execution_count": 24,
   "metadata": {
    "executionInfo": {
     "elapsed": 655,
     "status": "ok",
     "timestamp": 1601176970563,
     "user": {
      "displayName": "Shivani Kamtikar",
      "photoUrl": "https://lh3.googleusercontent.com/a-/AOh14GgCVgFNvKERoqHXNf-N-ZOgNZfo8VUE_vBc5PsVDQ=s64",
      "userId": "17934731661532229860"
     },
     "user_tz": 300
    },
    "id": "DnOiqPxq3Mjl"
   },
   "outputs": [],
   "source": [
    "#Method to load the training and testing data into respective dataframe variables.\n",
    "def load_dataset():\n",
    "  train_data = pd.read_csv('drive/My Drive/train.csv')\n",
    "  y_train = pd.read_csv('drive/My Drive/train_labels.csv')\n",
    "  test_data = pd.read_csv('drive/My Drive/test.csv')\n",
    "  y_test = pd.read_csv('drive/My Drive/test_labels.csv')\n",
    "  return train_data, y_train, test_data, y_test"
   ]
  },
  {
   "cell_type": "code",
   "execution_count": 25,
   "metadata": {
    "executionInfo": {
     "elapsed": 650,
     "status": "ok",
     "timestamp": 1601176970564,
     "user": {
      "displayName": "Shivani Kamtikar",
      "photoUrl": "https://lh3.googleusercontent.com/a-/AOh14GgCVgFNvKERoqHXNf-N-ZOgNZfo8VUE_vBc5PsVDQ=s64",
      "userId": "17934731661532229860"
     },
     "user_tz": 300
    },
    "id": "bqTPNGV33-35"
   },
   "outputs": [],
   "source": [
    "#Method to reshape data into form fit to feed to the model.\n",
    "def reshape(train_data, y_train, test_data, y_test):\n",
    "  \n",
    "  #Number of classes to predict(26 alphabets)\n",
    "  num_classes = 26 \n",
    "\n",
    "  #Reshaping the data to (100,100)\n",
    "  train_data = np.array(train_data.iloc[:,:])\n",
    "  train_data = np.array([np.reshape(i,(100,100)) for i in train_data])\n",
    "\n",
    "  test_data = np.array(test_data.iloc[:,:])\n",
    "  test_data = np.array([np.reshape(i,(100,100)) for i in test_data])\n",
    "\n",
    "  #Converting the y-labels to one hot vectors  \n",
    "  y_train = np.array(y_train).reshape(-1)\n",
    "  y_train = np.eye(num_classes)[y_train]\n",
    "  y_test = np.array(y_test).reshape(-1)\n",
    "  y_test = np.eye(num_classes)[y_test]\n",
    "\n",
    "\n",
    "  #Reshaping to (100,100,1)  \n",
    "  train_data = train_data.reshape((10114, 100, 100, 1))\n",
    "  test_data =test_data.reshape((2522, 100, 100, 1))\n",
    "  \n",
    "  return train_data, test_data, y_train, y_test, num_classes"
   ]
  },
  {
   "cell_type": "code",
   "execution_count": 26,
   "metadata": {
    "executionInfo": {
     "elapsed": 29580,
     "status": "ok",
     "timestamp": 1601176999498,
     "user": {
      "displayName": "Shivani Kamtikar",
      "photoUrl": "https://lh3.googleusercontent.com/a-/AOh14GgCVgFNvKERoqHXNf-N-ZOgNZfo8VUE_vBc5PsVDQ=s64",
      "userId": "17934731661532229860"
     },
     "user_tz": 300
    },
    "id": "yly9o1z3491r"
   },
   "outputs": [],
   "source": [
    "#Loading and reshaping the data\n",
    "train_data, y_train, test_data, y_test = load_dataset()\n",
    "train_data, test_data, y_train, y_test, num_classes = reshape(train_data, y_train, test_data, y_test)"
   ]
  },
  {
   "cell_type": "code",
   "execution_count": 27,
   "metadata": {
    "colab": {
     "base_uri": "https://localhost:8080/",
     "height": 34
    },
    "executionInfo": {
     "elapsed": 29576,
     "status": "ok",
     "timestamp": 1601176999500,
     "user": {
      "displayName": "Shivani Kamtikar",
      "photoUrl": "https://lh3.googleusercontent.com/a-/AOh14GgCVgFNvKERoqHXNf-N-ZOgNZfo8VUE_vBc5PsVDQ=s64",
      "userId": "17934731661532229860"
     },
     "user_tz": 300
    },
    "id": "n9pwqLX52UED",
    "outputId": "5fe58e18-8ee6-4808-8268-497969a77cfc"
   },
   "outputs": [
    {
     "data": {
      "text/plain": [
       "(10114, 100, 100, 1)"
      ]
     },
     "execution_count": 27,
     "metadata": {
      "tags": []
     },
     "output_type": "execute_result"
    }
   ],
   "source": [
    "train_data.shape"
   ]
  },
  {
   "cell_type": "code",
   "execution_count": 28,
   "metadata": {
    "colab": {
     "base_uri": "https://localhost:8080/",
     "height": 34
    },
    "executionInfo": {
     "elapsed": 29573,
     "status": "ok",
     "timestamp": 1601176999504,
     "user": {
      "displayName": "Shivani Kamtikar",
      "photoUrl": "https://lh3.googleusercontent.com/a-/AOh14GgCVgFNvKERoqHXNf-N-ZOgNZfo8VUE_vBc5PsVDQ=s64",
      "userId": "17934731661532229860"
     },
     "user_tz": 300
    },
    "id": "JC3ERMbF296g",
    "outputId": "fd77822c-16a9-4eae-d793-cfa82b37e958"
   },
   "outputs": [
    {
     "data": {
      "text/plain": [
       "(2522, 100, 100, 1)"
      ]
     },
     "execution_count": 28,
     "metadata": {
      "tags": []
     },
     "output_type": "execute_result"
    }
   ],
   "source": [
    "test_data.shape"
   ]
  },
  {
   "cell_type": "code",
   "execution_count": 29,
   "metadata": {
    "executionInfo": {
     "elapsed": 29715,
     "status": "ok",
     "timestamp": 1601176999652,
     "user": {
      "displayName": "Shivani Kamtikar",
      "photoUrl": "https://lh3.googleusercontent.com/a-/AOh14GgCVgFNvKERoqHXNf-N-ZOgNZfo8VUE_vBc5PsVDQ=s64",
      "userId": "17934731661532229860"
     },
     "user_tz": 300
    },
    "id": "JaKBSfLYk_1-"
   },
   "outputs": [],
   "source": [
    "#Casting to type float32\n",
    "train_data = train_data.astype('float32')\n",
    "test_data = test_data.astype('float32')\n",
    "\n",
    "#Normalising the data into range [0,1]\n",
    "train_data = train_data/255\n",
    "test_data = test_data/255"
   ]
  },
  {
   "cell_type": "code",
   "execution_count": 1,
   "metadata": {
    "executionInfo": {
     "elapsed": 29834,
     "status": "ok",
     "timestamp": 1601176999775,
     "user": {
      "displayName": "Shivani Kamtikar",
      "photoUrl": "https://lh3.googleusercontent.com/a-/AOh14GgCVgFNvKERoqHXNf-N-ZOgNZfo8VUE_vBc5PsVDQ=s64",
      "userId": "17934731661532229860"
     },
     "user_tz": 300
    },
    "id": "YihINeR-NyR7"
   },
   "outputs": [],
   "source": [
    "#Method to define the layers, optimizer, loss function and evaluation metrics of the model.\n",
    "def create_model():\n",
    "    \n",
    "  #Creates a linear stack of layers  \n",
    "  model = Sequential()\n",
    "    \n",
    "  model.add(layers.Conv2D(64, (3, 3), activation='relu', input_shape=(100, 100, 1)))#\n",
    "  model.add(layers.Conv2D(64, (3, 3), activation='relu'))#\n",
    "  model.add(layers.MaxPooling2D((2, 2), strides = 2))\n",
    "  model.add(layers.Conv2D(64, (3, 3), activation='relu',kernel_regularizer=regularizers.l2(0.0001),bias_regularizer=regularizers.l2(0.0001)))\n",
    "  model.add(layers.Conv2D(64, (3, 3), activation='relu', kernel_regularizer=regularizers.l2(0.0001),bias_regularizer=regularizers.l2(0.0001)))\n",
    "  model.add(layers.MaxPooling2D((2, 2), strides = 2))\n",
    "  model.add(layers.Conv2D(64, (3, 3), activation='relu'))\n",
    "  model.add(layers.Conv2D(64, (3, 3), activation='relu'))\n",
    "  model.add(layers.MaxPooling2D((2, 2)))\n",
    "  model.add(layers.Flatten())\n",
    "  model.add(layers.Dense(26, activation='softmax'))\n",
    "\n",
    "  model.compile(optimizer= Adam(0.001),#\"adam\",\n",
    "              loss='categorical_crossentropy',\n",
    "              metrics=['accuracy'])\n",
    "  return model"
   ]
  },
  {
   "cell_type": "code",
   "execution_count": 31,
   "metadata": {
    "colab": {
     "base_uri": "https://localhost:8080/",
     "height": 545
    },
    "executionInfo": {
     "elapsed": 29830,
     "status": "ok",
     "timestamp": 1601176999776,
     "user": {
      "displayName": "Shivani Kamtikar",
      "photoUrl": "https://lh3.googleusercontent.com/a-/AOh14GgCVgFNvKERoqHXNf-N-ZOgNZfo8VUE_vBc5PsVDQ=s64",
      "userId": "17934731661532229860"
     },
     "user_tz": 300
    },
    "id": "SmeHVgmDOaba",
    "outputId": "3f8b94ba-e032-4802-9ec9-2c535034545d"
   },
   "outputs": [
    {
     "name": "stdout",
     "output_type": "stream",
     "text": [
      "Model: \"sequential_1\"\n",
      "_________________________________________________________________\n",
      "Layer (type)                 Output Shape              Param #   \n",
      "=================================================================\n",
      "conv2d_6 (Conv2D)            (None, 98, 98, 64)        640       \n",
      "_________________________________________________________________\n",
      "conv2d_7 (Conv2D)            (None, 96, 96, 64)        36928     \n",
      "_________________________________________________________________\n",
      "max_pooling2d_3 (MaxPooling2 (None, 48, 48, 64)        0         \n",
      "_________________________________________________________________\n",
      "conv2d_8 (Conv2D)            (None, 46, 46, 64)        36928     \n",
      "_________________________________________________________________\n",
      "conv2d_9 (Conv2D)            (None, 44, 44, 64)        36928     \n",
      "_________________________________________________________________\n",
      "max_pooling2d_4 (MaxPooling2 (None, 22, 22, 64)        0         \n",
      "_________________________________________________________________\n",
      "conv2d_10 (Conv2D)           (None, 20, 20, 64)        36928     \n",
      "_________________________________________________________________\n",
      "conv2d_11 (Conv2D)           (None, 18, 18, 64)        36928     \n",
      "_________________________________________________________________\n",
      "max_pooling2d_5 (MaxPooling2 (None, 9, 9, 64)          0         \n",
      "_________________________________________________________________\n",
      "flatten_1 (Flatten)          (None, 5184)              0         \n",
      "_________________________________________________________________\n",
      "dense_1 (Dense)              (None, 26)                134810    \n",
      "=================================================================\n",
      "Total params: 320,090\n",
      "Trainable params: 320,090\n",
      "Non-trainable params: 0\n",
      "_________________________________________________________________\n"
     ]
    }
   ],
   "source": [
    "model = create_model()\n",
    "model.summary()"
   ]
  },
  {
   "cell_type": "code",
   "execution_count": 32,
   "metadata": {
    "executionInfo": {
     "elapsed": 29823,
     "status": "ok",
     "timestamp": 1601176999776,
     "user": {
      "displayName": "Shivani Kamtikar",
      "photoUrl": "https://lh3.googleusercontent.com/a-/AOh14GgCVgFNvKERoqHXNf-N-ZOgNZfo8VUE_vBc5PsVDQ=s64",
      "userId": "17934731661532229860"
     },
     "user_tz": 300
    },
    "id": "P5O6vfZCnmIB"
   },
   "outputs": [],
   "source": [
    "#Callback function to stop training when the accuracy hits 99.8%.\n",
    "class myCallback(keras.callbacks.Callback):\n",
    "      def on_epoch_end(self, epoch, logs={}):\n",
    "        if(logs.get('accuracy')>0.998):\n",
    "          print(\"\\nReached 99.8% accuracy so cancelling training!\")\n",
    "          self.model.stop_training = True"
   ]
  },
  {
   "cell_type": "code",
   "execution_count": 33,
   "metadata": {
    "colab": {
     "base_uri": "https://localhost:8080/",
     "height": 987
    },
    "executionInfo": {
     "elapsed": 311727,
     "status": "ok",
     "timestamp": 1601177281687,
     "user": {
      "displayName": "Shivani Kamtikar",
      "photoUrl": "https://lh3.googleusercontent.com/a-/AOh14GgCVgFNvKERoqHXNf-N-ZOgNZfo8VUE_vBc5PsVDQ=s64",
      "userId": "17934731661532229860"
     },
     "user_tz": 300
    },
    "id": "BzAX1DZ0OeTP",
    "outputId": "3e789b35-417d-4924-860b-e42ec549c47c"
   },
   "outputs": [
    {
     "name": "stdout",
     "output_type": "stream",
     "text": [
      "Epoch 1/100\n",
      " 2/18 [==>...........................] - ETA: 4s - loss: 3.2761 - accuracy: 0.0410WARNING:tensorflow:Callbacks method `on_train_batch_end` is slow compared to the batch time (batch time: 0.1417s vs `on_train_batch_end` time: 0.4158s). Check your callbacks.\n",
      "18/18 [==============================] - 10s 547ms/step - loss: 3.2637 - accuracy: 0.0521 - val_loss: 3.2144 - val_accuracy: 0.0929\n",
      "Epoch 2/100\n",
      "18/18 [==============================] - 10s 560ms/step - loss: 2.9484 - accuracy: 0.1960 - val_loss: 2.7379 - val_accuracy: 0.3073\n",
      "Epoch 3/100\n",
      "18/18 [==============================] - 10s 579ms/step - loss: 2.2048 - accuracy: 0.4165 - val_loss: 1.7792 - val_accuracy: 0.5128\n",
      "Epoch 4/100\n",
      "18/18 [==============================] - 11s 603ms/step - loss: 1.2994 - accuracy: 0.6623 - val_loss: 1.0046 - val_accuracy: 0.7372\n",
      "Epoch 5/100\n",
      "18/18 [==============================] - 11s 621ms/step - loss: 0.6652 - accuracy: 0.8237 - val_loss: 0.5997 - val_accuracy: 0.8202\n",
      "Epoch 6/100\n",
      "18/18 [==============================] - 11s 602ms/step - loss: 0.3077 - accuracy: 0.9183 - val_loss: 0.3859 - val_accuracy: 0.8903\n",
      "Epoch 7/100\n",
      "18/18 [==============================] - 11s 586ms/step - loss: 0.1575 - accuracy: 0.9542 - val_loss: 0.2759 - val_accuracy: 0.9209\n",
      "Epoch 8/100\n",
      "18/18 [==============================] - 10s 581ms/step - loss: 0.0876 - accuracy: 0.9776 - val_loss: 0.2339 - val_accuracy: 0.9358\n",
      "Epoch 9/100\n",
      "18/18 [==============================] - 11s 585ms/step - loss: 0.0507 - accuracy: 0.9865 - val_loss: 0.1999 - val_accuracy: 0.9526\n",
      "Epoch 10/100\n",
      "18/18 [==============================] - 11s 593ms/step - loss: 0.0324 - accuracy: 0.9918 - val_loss: 0.2074 - val_accuracy: 0.9447\n",
      "Epoch 11/100\n",
      "18/18 [==============================] - 11s 601ms/step - loss: 0.0266 - accuracy: 0.9943 - val_loss: 0.1900 - val_accuracy: 0.9536\n",
      "Epoch 12/100\n",
      "18/18 [==============================] - 11s 600ms/step - loss: 0.0224 - accuracy: 0.9952 - val_loss: 0.2538 - val_accuracy: 0.9437\n",
      "Epoch 13/100\n",
      "18/18 [==============================] - 11s 597ms/step - loss: 0.0220 - accuracy: 0.9948 - val_loss: 0.2013 - val_accuracy: 0.9545\n",
      "Epoch 14/100\n",
      "18/18 [==============================] - 11s 595ms/step - loss: 0.0220 - accuracy: 0.9952 - val_loss: 0.1667 - val_accuracy: 0.9575\n",
      "Epoch 15/100\n",
      "18/18 [==============================] - 11s 593ms/step - loss: 0.0256 - accuracy: 0.9942 - val_loss: 0.2331 - val_accuracy: 0.9407\n",
      "Epoch 16/100\n",
      "18/18 [==============================] - 11s 592ms/step - loss: 0.0208 - accuracy: 0.9953 - val_loss: 0.2021 - val_accuracy: 0.9496\n",
      "Epoch 17/100\n",
      "18/18 [==============================] - 11s 590ms/step - loss: 0.0198 - accuracy: 0.9955 - val_loss: 0.2316 - val_accuracy: 0.9466\n",
      "Epoch 18/100\n",
      "18/18 [==============================] - 11s 590ms/step - loss: 0.0241 - accuracy: 0.9946 - val_loss: 0.2336 - val_accuracy: 0.9457\n",
      "Epoch 19/100\n",
      "18/18 [==============================] - 11s 591ms/step - loss: 0.0145 - accuracy: 0.9979 - val_loss: 0.1887 - val_accuracy: 0.9615\n",
      "Epoch 20/100\n",
      "18/18 [==============================] - 11s 591ms/step - loss: 0.0124 - accuracy: 0.9971 - val_loss: 0.2269 - val_accuracy: 0.9466\n",
      "Epoch 21/100\n",
      "18/18 [==============================] - 11s 592ms/step - loss: 0.0247 - accuracy: 0.9944 - val_loss: 0.2107 - val_accuracy: 0.9545\n",
      "Epoch 22/100\n",
      "18/18 [==============================] - 11s 590ms/step - loss: 0.0190 - accuracy: 0.9952 - val_loss: 0.2294 - val_accuracy: 0.9476\n",
      "Epoch 23/100\n",
      "18/18 [==============================] - 11s 590ms/step - loss: 0.0174 - accuracy: 0.9958 - val_loss: 0.2412 - val_accuracy: 0.9516\n",
      "Epoch 24/100\n",
      "18/18 [==============================] - 11s 592ms/step - loss: 0.0158 - accuracy: 0.9966 - val_loss: 0.1744 - val_accuracy: 0.9634\n",
      "Epoch 25/100\n",
      "18/18 [==============================] - ETA: 0s - loss: 0.0093 - accuracy: 0.9986\n",
      "Reached 99.8% accuracy so cancelling training!\n",
      "18/18 [==============================] - 11s 594ms/step - loss: 0.0093 - accuracy: 0.9986 - val_loss: 0.1619 - val_accuracy: 0.9595\n",
      "TRAINING TIME: 281.66538739204407 s\n"
     ]
    }
   ],
   "source": [
    "start = time.time()\n",
    "\n",
    "callbacks = myCallback() \n",
    "\n",
    "#Training the model\n",
    "history = model.fit(train_data, y_train, epochs=100, validation_split= 0.1, callbacks= [callbacks], verbose = 1, batch_size = 512)# steps_per_epoch=10, validation_steps=5)\n",
    "\n",
    "stop = time.time()\n",
    "print (\"TRAINING TIME:\", (stop - start),\"s\")"
   ]
  },
  {
   "cell_type": "code",
   "execution_count": 34,
   "metadata": {
    "colab": {
     "base_uri": "https://localhost:8080/",
     "height": 52
    },
    "executionInfo": {
     "elapsed": 312532,
     "status": "ok",
     "timestamp": 1601177282505,
     "user": {
      "displayName": "Shivani Kamtikar",
      "photoUrl": "https://lh3.googleusercontent.com/a-/AOh14GgCVgFNvKERoqHXNf-N-ZOgNZfo8VUE_vBc5PsVDQ=s64",
      "userId": "17934731661532229860"
     },
     "user_tz": 300
    },
    "id": "h43QWwRi0b5V",
    "outputId": "7692187a-ce06-498e-f4b0-f60134f1aeca"
   },
   "outputs": [
    {
     "name": "stdout",
     "output_type": "stream",
     "text": [
      "79/79 [==============================] - 1s 13ms/step - loss: 0.1099 - accuracy: 0.9766\n"
     ]
    },
    {
     "data": {
      "text/plain": [
       "(0.10989529639482498, 0.9766058921813965)"
      ]
     },
     "execution_count": 34,
     "metadata": {
      "tags": []
     },
     "output_type": "execute_result"
    }
   ],
   "source": [
    "#Evaluates the model using the test data, printing the loss and accuracy\n",
    "test_loss, test_acc = model.evaluate(test_data,  y_test, verbose=1)\n",
    "test_loss, test_acc"
   ]
  },
  {
   "cell_type": "code",
   "execution_count": 35,
   "metadata": {
    "colab": {
     "base_uri": "https://localhost:8080/",
     "height": 295
    },
    "executionInfo": {
     "elapsed": 312762,
     "status": "ok",
     "timestamp": 1601177282747,
     "user": {
      "displayName": "Shivani Kamtikar",
      "photoUrl": "https://lh3.googleusercontent.com/a-/AOh14GgCVgFNvKERoqHXNf-N-ZOgNZfo8VUE_vBc5PsVDQ=s64",
      "userId": "17934731661532229860"
     },
     "user_tz": 300
    },
    "id": "3kmN27vzxJtr",
    "outputId": "7be79128-6efb-4d28-fbad-39e782da78de"
   },
   "outputs": [
    {
     "data": {
      "image/png": "[encoded data removed]",
      "text/plain": [
       "<Figure size 432x288 with 1 Axes>"
      ]
     },
     "metadata": {
      "needs_background": "light",
      "tags": []
     },
     "output_type": "display_data"
    }
   ],
   "source": [
    "#Plots the training and validation accuracy.\n",
    "plt.plot(history.history['accuracy'])\n",
    "plt.plot(history.history['val_accuracy'])\n",
    "plt.title('Model accuracy')\n",
    "plt.ylabel('Accuracy')\n",
    "plt.xlabel('Epoch')\n",
    "plt.legend(['train', 'validation'], loc='lower right')\n",
    "plt.show()"
   ]
  },
  {
   "cell_type": "code",
   "execution_count": 36,
   "metadata": {
    "colab": {
     "base_uri": "https://localhost:8080/",
     "height": 295
    },
    "executionInfo": {
     "elapsed": 312871,
     "status": "ok",
     "timestamp": 1601177282870,
     "user": {
      "displayName": "Shivani Kamtikar",
      "photoUrl": "https://lh3.googleusercontent.com/a-/AOh14GgCVgFNvKERoqHXNf-N-ZOgNZfo8VUE_vBc5PsVDQ=s64",
      "userId": "17934731661532229860"
     },
     "user_tz": 300
    },
    "id": "c7rOTo5D2jk5",
    "outputId": "f3243996-520f-4356-ed5e-153f9476d8c8"
   },
   "outputs": [
    {
     "data": {
      "image/png": "[encoded data removed]",
      "text/plain": [
       "<Figure size 432x288 with 1 Axes>"
      ]
     },
     "metadata": {
      "needs_background": "light",
      "tags": []
     },
     "output_type": "display_data"
    }
   ],
   "source": [
    "#Plots the training and validation loss\n",
    "plt.plot(history.history['loss'])\n",
    "plt.plot(history.history['val_loss'])\n",
    "plt.title('Model loss')\n",
    "plt.ylabel('Loss')\n",
    "plt.xlabel('Epoch')\n",
    "plt.legend(['train', 'validation'], loc='lower right')\n",
    "plt.show()"
   ]
  },
  {
   "cell_type": "code",
   "execution_count": 37,
   "metadata": {
    "colab": {
     "base_uri": "https://localhost:8080/",
     "height": 286
    },
    "executionInfo": {
     "elapsed": 313910,
     "status": "ok",
     "timestamp": 1601177283925,
     "user": {
      "displayName": "Shivani Kamtikar",
      "photoUrl": "https://lh3.googleusercontent.com/a-/AOh14GgCVgFNvKERoqHXNf-N-ZOgNZfo8VUE_vBc5PsVDQ=s64",
      "userId": "17934731661532229860"
     },
     "user_tz": 300
    },
    "id": "fgF6BOaTmvyX",
    "outputId": "7aac1e5a-463a-493d-984f-a19dc04599eb"
   },
   "outputs": [
    {
     "data": {
      "image/png": "[encoded data removed]",
      "text/plain": [
       "<Figure size 432x288 with 1 Axes>"
      ]
     },
     "metadata": {
      "needs_background": "light",
      "tags": []
     },
     "output_type": "display_data"
    },
    {
     "name": "stdout",
     "output_type": "stream",
     "text": [
      "N\n"
     ]
    }
   ],
   "source": [
    "#Used to pick an image from the test data.\n",
    "plt.imshow(test_data[1501].reshape(100,100), cmap = plt.cm.binary)\n",
    "plt.show()\n",
    "\n",
    "#Predicts the image selected.\n",
    "prediction  = model.predict(test_data)\n",
    "prediction = (np.round(np.argmax(prediction[1501])))\n",
    "prediction = numb_to_alpha(prediction)\n",
    "print(prediction)"
   ]
  },
  {
   "cell_type": "code",
   "execution_count": 38,
   "metadata": {
    "colab": {
     "base_uri": "https://localhost:8080/",
     "height": 286
    },
    "executionInfo": {
     "elapsed": 314902,
     "status": "ok",
     "timestamp": 1601177284931,
     "user": {
      "displayName": "Shivani Kamtikar",
      "photoUrl": "https://lh3.googleusercontent.com/a-/AOh14GgCVgFNvKERoqHXNf-N-ZOgNZfo8VUE_vBc5PsVDQ=s64",
      "userId": "17934731661532229860"
     },
     "user_tz": 300
    },
    "id": "CLyeNTFYqv3_",
    "outputId": "71827a49-a5ef-4a4e-d2d7-fb0fd0ad32ff"
   },
   "outputs": [
    {
     "data": {
      "text/plain": [
       "<matplotlib.image.AxesImage at 0x7f1c8fe63208>"
      ]
     },
     "execution_count": 38,
     "metadata": {
      "tags": []
     },
     "output_type": "execute_result"
    },
    {
     "data": {
      "image/png": "[encoded data removed]",
      "text/plain": [
       "<Figure size 432x288 with 1 Axes>"
      ]
     },
     "metadata": {
      "needs_background": "light",
      "tags": []
     },
     "output_type": "display_data"
    }
   ],
   "source": [
    "#Loads a new image not included in any dataset.\n",
    "\n",
    "img = cv2.imread('k.jpeg')\n",
    "img = cv2.cvtColor(img, cv2.COLOR_BGR2GRAY)\n",
    "img= cv2.resize(img, dsize=(100,100), interpolation = cv2.INTER_CUBIC)\n",
    "plt.imshow(img)\n",
    "img.shape\n",
    "\n",
    "img = np.expand_dims(img, axis = 0)\n",
    "img = np.expand_dims(img, axis = 3)\n",
    "img = img.astype('float32')\n",
    "img = img/255\n",
    "plt.imshow(img.reshape(100,100), cmap = plt.cm.binary)"
   ]
  },
  {
   "cell_type": "code",
   "execution_count": 39,
   "metadata": {
    "colab": {
     "base_uri": "https://localhost:8080/",
     "height": 34
    },
    "executionInfo": {
     "elapsed": 314897,
     "status": "ok",
     "timestamp": 1601177284937,
     "user": {
      "displayName": "Shivani Kamtikar",
      "photoUrl": "https://lh3.googleusercontent.com/a-/AOh14GgCVgFNvKERoqHXNf-N-ZOgNZfo8VUE_vBc5PsVDQ=s64",
      "userId": "17934731661532229860"
     },
     "user_tz": 300
    },
    "id": "RX0oIxQWMZCe",
    "outputId": "1c17eff0-030f-4bee-a24a-ead99c43e797"
   },
   "outputs": [
    {
     "name": "stdout",
     "output_type": "stream",
     "text": [
      "K\n"
     ]
    }
   ],
   "source": [
    "#Predicts the new image.\n",
    "prediction = model.predict(img)\n",
    "prediction = (np.round(np.argmax(prediction)))\n",
    "prediction = numb_to_alpha(prediction)\n",
    "print(prediction)"
   ]
  },
  {
   "cell_type": "code",
   "execution_count": 41,
   "metadata": {
    "colab": {
     "base_uri": "https://localhost:8080/",
     "height": 1000
    },
    "executionInfo": {
     "elapsed": 315193,
     "status": "ok",
     "timestamp": 1601177285250,
     "user": {
      "displayName": "Shivani Kamtikar",
      "photoUrl": "https://lh3.googleusercontent.com/a-/AOh14GgCVgFNvKERoqHXNf-N-ZOgNZfo8VUE_vBc5PsVDQ=s64",
      "userId": "17934731661532229860"
     },
     "user_tz": 300
    },
    "id": "GyWcEAcam9Ud",
    "outputId": "2405e09d-1e6f-41fb-902b-c30c6c70a385"
   },
   "outputs": [
    {
     "name": "stdout",
     "output_type": "stream",
     "text": [
      "62 ) Real value =  A , Predicted value=  E\n",
      "148 ) Real value =  T , Predicted value=  I\n",
      "149 ) Real value =  M , Predicted value=  B\n",
      "169 ) Real value =  O , Predicted value=  B\n",
      "209 ) Real value =  N , Predicted value=  O\n",
      "220 ) Real value =  T , Predicted value=  P\n",
      "230 ) Real value =  X , Predicted value=  Z\n",
      "300 ) Real value =  T , Predicted value=  X\n",
      "471 ) Real value =  J , Predicted value=  O\n",
      "536 ) Real value =  V , Predicted value=  I\n",
      "539 ) Real value =  T , Predicted value=  U\n",
      "542 ) Real value =  K , Predicted value=  D\n",
      "561 ) Real value =  N , Predicted value=  E\n",
      "647 ) Real value =  R , Predicted value=  E\n",
      "685 ) Real value =  M , Predicted value=  P\n",
      "739 ) Real value =  F , Predicted value=  I\n",
      "766 ) Real value =  I , Predicted value=  M\n",
      "900 ) Real value =  N , Predicted value=  F\n",
      "938 ) Real value =  J , Predicted value=  O\n",
      "1004 ) Real value =  N , Predicted value=  K\n",
      "1021 ) Real value =  Q , Predicted value=  N\n",
      "1095 ) Real value =  A , Predicted value=  C\n",
      "1125 ) Real value =  M , Predicted value=  K\n",
      "1256 ) Real value =  X , Predicted value=  O\n",
      "1294 ) Real value =  N , Predicted value=  E\n",
      "1414 ) Real value =  S , Predicted value=  H\n",
      "1497 ) Real value =  M , Predicted value=  A\n",
      "1506 ) Real value =  Q , Predicted value=  T\n",
      "1590 ) Real value =  N , Predicted value=  M\n",
      "1598 ) Real value =  M , Predicted value=  N\n",
      "1642 ) Real value =  D , Predicted value=  Z\n",
      "1654 ) Real value =  T , Predicted value=  W\n",
      "1661 ) Real value =  T , Predicted value=  X\n",
      "1672 ) Real value =  E , Predicted value=  H\n",
      "1675 ) Real value =  S , Predicted value=  L\n",
      "1735 ) Real value =  N , Predicted value=  P\n",
      "1761 ) Real value =  S , Predicted value=  L\n",
      "1813 ) Real value =  N , Predicted value=  C\n",
      "1819 ) Real value =  N , Predicted value=  F\n",
      "1885 ) Real value =  N , Predicted value=  I\n",
      "1907 ) Real value =  A , Predicted value=  X\n",
      "1949 ) Real value =  N , Predicted value=  M\n",
      "1953 ) Real value =  N , Predicted value=  M\n",
      "1985 ) Real value =  Y , Predicted value=  K\n",
      "2025 ) Real value =  N , Predicted value=  K\n",
      "2076 ) Real value =  Q , Predicted value=  X\n",
      "2091 ) Real value =  K , Predicted value=  Y\n",
      "2107 ) Real value =  I , Predicted value=  N\n",
      "2128 ) Real value =  X , Predicted value=  I\n",
      "2174 ) Real value =  Y , Predicted value=  Z\n",
      "2232 ) Real value =  R , Predicted value=  E\n",
      "2284 ) Real value =  X , Predicted value=  Z\n",
      "2293 ) Real value =  T , Predicted value=  U\n",
      "2322 ) Real value =  K , Predicted value=  M\n",
      "2354 ) Real value =  U , Predicted value=  T\n",
      "2367 ) Real value =  N , Predicted value=  Y\n",
      "2418 ) Real value =  E , Predicted value=  B\n",
      "2494 ) Real value =  Q , Predicted value=  N\n",
      "2514 ) Real value =  S , Predicted value=  L\n",
      "[ 3.  0.  0.  1.  2.  1.  0.  0.  2.  2.  3.  0.  5. 14.  1.  0.  4.  2.\n",
      "  4.  7.  1.  1.  0.  4.  2.  0.]\n",
      "Total Wrong =  59\n"
     ]
    }
   ],
   "source": [
    "#Piece of code for error analysis in the test data. \n",
    "#Prints the real value and predicted value.\n",
    "#Also prints an array of size 26, showing the mispredicted values of each alphabet.\n",
    "\n",
    "prediction  = model.predict(test_data)\n",
    "num_wrong = np.zeros(26)\n",
    "tot_Wrong = 0\n",
    "for i in range(2522):\n",
    "  predVal = (np.round(np.argmax(prediction[i])))\n",
    "  predVal = numb_to_alpha(predVal)\n",
    "  realVal = np.argmax(y_test[i])\n",
    "  realVal = numb_to_alpha(realVal)\n",
    "  if(predVal!=realVal):# and (realVal==\"N\"):\n",
    "    num_wrong[np.argmax(np.round(y_test[i]))]+=1\n",
    "    tot_Wrong+=1\n",
    "    \n",
    "    print(i+1,\") Real value = \",realVal ,\", Predicted value= \",predVal)\n",
    "    \n",
    "\n",
    "print(num_wrong)\n",
    "print(\"Total Wrong = \", tot_Wrong)"
   ]
  },
  {
   "cell_type": "code",
   "execution_count": 42,
   "metadata": {
    "colab": {
     "base_uri": "https://localhost:8080/",
     "height": 87
    },
    "executionInfo": {
     "elapsed": 315188,
     "status": "ok",
     "timestamp": 1601177285254,
     "user": {
      "displayName": "Shivani Kamtikar",
      "photoUrl": "https://lh3.googleusercontent.com/a-/AOh14GgCVgFNvKERoqHXNf-N-ZOgNZfo8VUE_vBc5PsVDQ=s64",
      "userId": "17934731661532229860"
     },
     "user_tz": 300
    },
    "id": "I1o0QtK5VV2Y",
    "outputId": "68265cf0-663b-44c2-b731-552695c1514a"
   },
   "outputs": [
    {
     "name": "stdout",
     "output_type": "stream",
     "text": [
      "[389. 389. 389. 389. 389. 389. 389. 389. 389. 389. 389. 389. 389. 389.\n",
      " 389. 389. 389. 389. 389. 389. 389. 389. 389. 389. 389. 389.]\n",
      "[97. 97. 97. 97. 97. 97. 97. 97. 97. 97. 97. 97. 97. 97. 97. 97. 97. 97.\n",
      " 97. 97. 97. 97. 97. 97. 97. 97.]\n"
     ]
    }
   ],
   "source": [
    "#Piece of code to display arrays(training and testing), showing the number of images for each alphabet.\n",
    "test1 = np.zeros(26)\n",
    "train1 = np.zeros(26) \n",
    "for i in range(2522):\n",
    "  test1[np.argmax(np.round(y_test[i]))]+=1\n",
    "for i in range(10114):\n",
    "  train1[np.argmax(np.round(y_train[i]))]+=1\n",
    "\n",
    "print(train1)\n",
    "print(test1)"
   ]
  },
  {
   "cell_type": "code",
   "execution_count": 43,
   "metadata": {
    "colab": {
     "base_uri": "https://localhost:8080/",
     "height": 34
    },
    "executionInfo": {
     "elapsed": 316225,
     "status": "ok",
     "timestamp": 1601177286296,
     "user": {
      "displayName": "Shivani Kamtikar",
      "photoUrl": "https://lh3.googleusercontent.com/a-/AOh14GgCVgFNvKERoqHXNf-N-ZOgNZfo8VUE_vBc5PsVDQ=s64",
      "userId": "17934731661532229860"
     },
     "user_tz": 300
    },
    "id": "jTNPDVEiXZEN",
    "outputId": "cab184f8-e689-4e50-9f45-91b10fc3b9ee"
   },
   "outputs": [
    {
     "data": {
      "text/plain": [
       "0.9764366620494536"
      ]
     },
     "execution_count": 43,
     "metadata": {
      "tags": []
     },
     "output_type": "execute_result"
    }
   ],
   "source": [
    "prediction = np.round(np.argmax(model.predict(test_data), axis = 1))\n",
    "\n",
    "#prediction=np.argmax(prediction, axis=1) \n",
    "rounded_labels=np.argmax(y_test, axis=1)\n",
    "f1_score(rounded_labels, prediction, average='macro')"
   ]
  },
  {
   "cell_type": "markdown",
   "metadata": {
    "id": "Tgb_Y_kW9PmX"
   },
   "source": [
    "Fscore is usually between 0 to 1. 0 means bad classifier and 1 means good. Our model's f_score is 0.9712 which would mean it is a good classifier. \n",
    "\n",
    "\"The F score reaches the best value, meaning perfect precision and recall, at a value of 1. The worst F score, which means lowest precision and lowest recall, would be a value of 0.\""
   ]
  },
  {
   "cell_type": "code",
   "execution_count": 44,
   "metadata": {
    "executionInfo": {
     "elapsed": 316225,
     "status": "ok",
     "timestamp": 1601177286301,
     "user": {
      "displayName": "Shivani Kamtikar",
      "photoUrl": "https://lh3.googleusercontent.com/a-/AOh14GgCVgFNvKERoqHXNf-N-ZOgNZfo8VUE_vBc5PsVDQ=s64",
      "userId": "17934731661532229860"
     },
     "user_tz": 300
    },
    "id": "kbYYEaaOzjb_"
   },
   "outputs": [],
   "source": [
    "#rounded_labels=np.argmax(y_test, axis=1)\n"
   ]
  },
  {
   "cell_type": "code",
   "execution_count": 47,
   "metadata": {
    "colab": {
     "base_uri": "https://localhost:8080/",
     "height": 1000
    },
    "executionInfo": {
     "elapsed": 316215,
     "status": "ok",
     "timestamp": 1601177286313,
     "user": {
      "displayName": "Shivani Kamtikar",
      "photoUrl": "https://lh3.googleusercontent.com/a-/AOh14GgCVgFNvKERoqHXNf-N-ZOgNZfo8VUE_vBc5PsVDQ=s64",
      "userId": "17934731661532229860"
     },
     "user_tz": 300
    },
    "id": "mXWTNu4_1CkW",
    "outputId": "75dea177-c9d3-44f8-f708-9460b791bb05"
   },
   "outputs": [
    {
     "data": {
      "text/plain": [
       "array([[[2424,    1],\n",
       "        [   3,   94]],\n",
       "\n",
       "       [[2422,    3],\n",
       "        [   0,   97]],\n",
       "\n",
       "       [[2423,    2],\n",
       "        [   0,   97]],\n",
       "\n",
       "       [[2424,    1],\n",
       "        [   1,   96]],\n",
       "\n",
       "       [[2420,    5],\n",
       "        [   2,   95]],\n",
       "\n",
       "       [[2423,    2],\n",
       "        [   1,   96]],\n",
       "\n",
       "       [[2425,    0],\n",
       "        [   0,   97]],\n",
       "\n",
       "       [[2423,    2],\n",
       "        [   0,   97]],\n",
       "\n",
       "       [[2420,    5],\n",
       "        [   2,   95]],\n",
       "\n",
       "       [[2425,    0],\n",
       "        [   2,   95]],\n",
       "\n",
       "       [[2421,    4],\n",
       "        [   3,   94]],\n",
       "\n",
       "       [[2422,    3],\n",
       "        [   0,   97]],\n",
       "\n",
       "       [[2420,    5],\n",
       "        [   5,   92]],\n",
       "\n",
       "       [[2421,    4],\n",
       "        [  14,   83]],\n",
       "\n",
       "       [[2421,    4],\n",
       "        [   1,   96]],\n",
       "\n",
       "       [[2422,    3],\n",
       "        [   0,   97]],\n",
       "\n",
       "       [[2425,    0],\n",
       "        [   4,   93]],\n",
       "\n",
       "       [[2425,    0],\n",
       "        [   2,   95]],\n",
       "\n",
       "       [[2425,    0],\n",
       "        [   4,   93]],\n",
       "\n",
       "       [[2423,    2],\n",
       "        [   7,   90]],\n",
       "\n",
       "       [[2423,    2],\n",
       "        [   1,   96]],\n",
       "\n",
       "       [[2425,    0],\n",
       "        [   1,   96]],\n",
       "\n",
       "       [[2424,    1],\n",
       "        [   0,   97]],\n",
       "\n",
       "       [[2421,    4],\n",
       "        [   4,   93]],\n",
       "\n",
       "       [[2423,    2],\n",
       "        [   2,   95]],\n",
       "\n",
       "       [[2421,    4],\n",
       "        [   0,   97]]])"
      ]
     },
     "execution_count": 47,
     "metadata": {
      "tags": []
     },
     "output_type": "execute_result"
    }
   ],
   "source": [
    "#printing the multi-label confusion matrix\n",
    "multilabel_confusion_matrix(rounded_labels, prediction)"
   ]
  },
  {
   "cell_type": "markdown",
   "metadata": {
    "id": "UixzZ1gL7SvO"
   },
   "source": [
    "This is a multilabel confusion matrix. Each of the nested matrices represents a class (alphabet in our case). \n",
    "Multiclass data will be treated as if binarized under a one-vs-rest transformation. Returned confusion matrices will be in the order of sorted unique labels in the union of (y_true, y_pred). \n",
    "\n",
    "In the matrix:\n",
    "\n",
    "00 = true negatives\n",
    "\n",
    "10 = false negatives\n",
    "\n",
    "11 = true positives\n",
    "\n",
    "01 = false negatives"
   ]
  },
  {
   "cell_type": "code",
   "execution_count": 48,
   "metadata": {
    "colab": {
     "base_uri": "https://localhost:8080/",
     "height": 598
    },
    "executionInfo": {
     "elapsed": 316212,
     "status": "ok",
     "timestamp": 1601177286317,
     "user": {
      "displayName": "Shivani Kamtikar",
      "photoUrl": "https://lh3.googleusercontent.com/a-/AOh14GgCVgFNvKERoqHXNf-N-ZOgNZfo8VUE_vBc5PsVDQ=s64",
      "userId": "17934731661532229860"
     },
     "user_tz": 300
    },
    "id": "tt_O5xj01J8W",
    "outputId": "c6f0236b-2e6c-40c0-ffd6-d6d1c6c1d8c6"
   },
   "outputs": [
    {
     "name": "stdout",
     "output_type": "stream",
     "text": [
      "              precision    recall  f1-score   support\n",
      "\n",
      "           0       0.99      0.97      0.98        97\n",
      "           1       0.97      1.00      0.98        97\n",
      "           2       0.98      1.00      0.99        97\n",
      "           3       0.99      0.99      0.99        97\n",
      "           4       0.95      0.98      0.96        97\n",
      "           5       0.98      0.99      0.98        97\n",
      "           6       1.00      1.00      1.00        97\n",
      "           7       0.98      1.00      0.99        97\n",
      "           8       0.95      0.98      0.96        97\n",
      "           9       1.00      0.98      0.99        97\n",
      "          10       0.96      0.97      0.96        97\n",
      "          11       0.97      1.00      0.98        97\n",
      "          12       0.95      0.95      0.95        97\n",
      "          13       0.95      0.86      0.90        97\n",
      "          14       0.96      0.99      0.97        97\n",
      "          15       0.97      1.00      0.98        97\n",
      "          16       1.00      0.96      0.98        97\n",
      "          17       1.00      0.98      0.99        97\n",
      "          18       1.00      0.96      0.98        97\n",
      "          19       0.98      0.93      0.95        97\n",
      "          20       0.98      0.99      0.98        97\n",
      "          21       1.00      0.99      0.99        97\n",
      "          22       0.99      1.00      0.99        97\n",
      "          23       0.96      0.96      0.96        97\n",
      "          24       0.98      0.98      0.98        97\n",
      "          25       0.96      1.00      0.98        97\n",
      "\n",
      "    accuracy                           0.98      2522\n",
      "   macro avg       0.98      0.98      0.98      2522\n",
      "weighted avg       0.98      0.98      0.98      2522\n",
      "\n"
     ]
    }
   ],
   "source": [
    "#printing the classification report\n",
    "print(classification_report(rounded_labels, prediction))"
   ]
  },
  {
   "cell_type": "markdown",
   "metadata": {
    "id": "cQzjwWQt7x1-"
   },
   "source": [
    "The recall means \"how many of this class you find over the whole number of element of this class\"\n",
    "\n",
    "The precision will be \"how many are correctly classified among that class\"\n",
    "\n",
    "The f1-score is the harmonic mean between precision & recall\n",
    "\n",
    "The support is the number of occurence of the given class in your dataset"
   ]
  },
  {
   "cell_type": "code",
   "execution_count": 50,
   "metadata": {
    "executionInfo": {
     "elapsed": 316304,
     "status": "ok",
     "timestamp": 1601177286421,
     "user": {
      "displayName": "Shivani Kamtikar",
      "photoUrl": "https://lh3.googleusercontent.com/a-/AOh14GgCVgFNvKERoqHXNf-N-ZOgNZfo8VUE_vBc5PsVDQ=s64",
      "userId": "17934731661532229860"
     },
     "user_tz": 300
    },
    "id": "ZyJDJ1fE2apr"
   },
   "outputs": [],
   "source": [
    "#calculating the ROC score\n",
    "def multiclass_roc_auc_score(y_test, prediction, average=\"macro\"):\n",
    "  lb = preprocessing.LabelBinarizer()\n",
    "  lb.fit(y_test)\n",
    "  y_test = lb.transform(y_test)\n",
    "  y_pred = lb.transform(prediction)\n",
    "  return roc_auc_score(y_test, y_pred, average=average) "
   ]
  },
  {
   "cell_type": "code",
   "execution_count": 51,
   "metadata": {
    "executionInfo": {
     "elapsed": 316299,
     "status": "ok",
     "timestamp": 1601177286422,
     "user": {
      "displayName": "Shivani Kamtikar",
      "photoUrl": "https://lh3.googleusercontent.com/a-/AOh14GgCVgFNvKERoqHXNf-N-ZOgNZfo8VUE_vBc5PsVDQ=s64",
      "userId": "17934731661532229860"
     },
     "user_tz": 300
    },
    "id": "K_dRB0HQ2pXj"
   },
   "outputs": [],
   "source": [
    "score = multiclass_roc_auc_score(y_test, prediction)"
   ]
  },
  {
   "cell_type": "code",
   "execution_count": 52,
   "metadata": {
    "colab": {
     "base_uri": "https://localhost:8080/",
     "height": 34
    },
    "executionInfo": {
     "elapsed": 316295,
     "status": "ok",
     "timestamp": 1601177286424,
     "user": {
      "displayName": "Shivani Kamtikar",
      "photoUrl": "https://lh3.googleusercontent.com/a-/AOh14GgCVgFNvKERoqHXNf-N-ZOgNZfo8VUE_vBc5PsVDQ=s64",
      "userId": "17934731661532229860"
     },
     "user_tz": 300
    },
    "id": "qCyt3KF95R41",
    "outputId": "17025ad3-4f84-425b-917e-d2def4c73fe6"
   },
   "outputs": [
    {
     "name": "stdout",
     "output_type": "stream",
     "text": [
      "0.9878350515463918\n"
     ]
    }
   ],
   "source": [
    "print(score)"
   ]
  },
  {
   "cell_type": "markdown",
   "metadata": {
    "id": "aNYIj6RS6R1r"
   },
   "source": [
    "Receiver Operating Characteristic (ROC) is used to evaluate classifier output quality. Roc score is usually between 0.5 to 1. 0.5 means bad classifier and 1 means good classifier. \n",
    "\n",
    "For our model, the value is 0.985 which means that the classifier is good. \n",
    "\n",
    "I have used LabelBinarizer becasue we had multiple classes. It's much easier with binary but since we have multiple classes we need to convert it.  "
   ]
  }
 ],
 "metadata": {
  "accelerator": "GPU",
  "colab": {
   "collapsed_sections": [],
   "name": "Phase 2 Keras CNN.ipynb",
   "provenance": [
    {
     "file_id": "1U_lksHYz0LZdaXy_VEgz2-c15JbsZB-K",
     "timestamp": 1578550120717
    }
   ]
  },
  "kernelspec": {
   "display_name": "Python 3",
   "language": "python",
   "name": "python3"
  },
  "language_info": {
   "codemirror_mode": {
    "name": "ipython",
    "version": 3
   },
   "file_extension": ".py",
   "mimetype": "text/x-python",
   "name": "python",
   "nbconvert_exporter": "python",
   "pygments_lexer": "ipython3",
   "version": "3.7.0"
  }
 },
 "nbformat": 4,
 "nbformat_minor": 1
}